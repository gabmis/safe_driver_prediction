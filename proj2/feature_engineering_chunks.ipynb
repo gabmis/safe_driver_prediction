{
 "cells": [
  {
   "cell_type": "code",
   "execution_count": 1,
   "metadata": {},
   "outputs": [],
   "source": [
    "import numpy as np\n",
    "import pandas as pd\n",
    "import matplotlib.pyplot as plt\n",
    "import seaborn as sns\n",
    "import time\n",
    "from datetime import datetime\n",
    "from collections import Counter\n",
    "from subprocess import check_output\n",
    "from datetime import timedelta"
   ]
  },
  {
   "cell_type": "code",
   "execution_count": 2,
   "metadata": {},
   "outputs": [],
   "source": [
    "path_to_data = \"/media/raph/Elements/ml1/churn/\"\n",
    "transactions_chunk_size = 10000\n",
    "nrows_for_members = None\n",
    "nrows_for_train = None\n",
    "nrows_for_train_v2 = None\n",
    "nrows_for_test = None\n",
    "nrows_for_test_v2 = None"
   ]
  },
  {
   "cell_type": "code",
   "execution_count": 3,
   "metadata": {},
   "outputs": [],
   "source": [
    "train = pd.read_csv(path_to_data+\"train_v2.csv\", nrows=nrows_for_train_v2)\n",
    "train = pd.concat((train, pd.read_csv(path_to_data+\"train.csv\", nrows=nrows_for_train)), axis=0, ignore_index=True).reset_index(drop=True)\n",
    "members = pd.read_csv(path_to_data + \"members_v3.csv\", nrows=nrows_for_members)"
   ]
  },
  {
   "cell_type": "code",
   "execution_count": 4,
   "metadata": {},
   "outputs": [],
   "source": [
    "training = pd.merge(left=train, right=members, how='left', on=['msno'])\n",
    "del train\n",
    "del members"
   ]
  },
  {
   "cell_type": "code",
   "execution_count": 5,
   "metadata": {},
   "outputs": [],
   "source": [
    "# changing type to int and putting -1 for missing values\n",
    "training['city'] = training.city.apply(lambda x: int(x) if pd.notnull(x) else -1)\n",
    "training['registered_via'] = training.registered_via.apply(lambda x: int(x) if pd.notnull(x) else -1)\n",
    "training['bd'] = training.bd.apply(lambda x: int(x) if pd.notnull(x) else -1)\n",
    "training['bd'] = training.bd.apply(lambda x: x if (10<x<100) else -1)\n",
    "\n",
    "# encode gender\n",
    "genders_encoding = {'male': 0, 'female': 1}\n",
    "training['gender'] = training.gender.apply(lambda x: genders_encoding[x] if pd.notnull(x) else -1)\n",
    "\n",
    "# changing date formats\n",
    "training['registration_init_time'] = training.registration_init_time.apply(lambda x: datetime.strptime(str(int(x)), \"%Y%m%d\").date() if pd.notnull(x) else \"NAN\")\n",
    "\n",
    "training.set_index('msno', inplace=True)"
   ]
  },
  {
   "cell_type": "code",
   "execution_count": 6,
   "metadata": {},
   "outputs": [],
   "source": [
    "# reducing memory usage:\n",
    "from tools import change_datatype, change_datatype_float\n",
    "change_datatype(training)\n",
    "change_datatype_float(training)"
   ]
  },
  {
   "cell_type": "code",
   "execution_count": 7,
   "metadata": {},
   "outputs": [],
   "source": [
    "def reformat_transactions(df):\n",
    "    df['transaction_date'] = df.transaction_date.apply(lambda x: datetime.strptime(str(int(x)), \"%Y%m%d\").date() if pd.notnull(x) else \"NAN\")\n",
    "    df['membership_expire_date'] = df.membership_expire_date.apply(lambda x: datetime.strptime(str(int(x)), \"%Y%m%d\").date() if pd.notnull(x) else \"NAN\")\n",
    "    df['payment_method_id'] = df.payment_method_id.apply(lambda x: int(x) if pd.notnull(x) else -1)\n",
    "    boolean_indexes = df[\"transaction_date\"] < datetime.strptime(\"20170201\", \"%Y%m%d\").date()\n",
    "    indexes_to_drop = [e[0] if e[1] else None for e in boolean_indexes.iteritems()]\n",
    "    indexes_to_keep = set(range(df.shape[0])) - set(indexes_to_drop)\n",
    "    df = df.take(list(indexes_to_keep))\n",
    "    return df"
   ]
  },
  {
   "cell_type": "code",
   "execution_count": 8,
   "metadata": {},
   "outputs": [],
   "source": [
    "df_iter = pd.read_csv(path_to_data+'transactions.csv', low_memory=False, iterator=True, chunksize=transactions_chunk_size)\n",
    "\n",
    "training[\"total_number_of_transactions\"] = 0\n",
    "\n",
    "training[\"current_number_of_transactions\"] = 0\n",
    "training.drop(['current_number_of_transactions'], axis=1, inplace=True)"
   ]
  },
  {
   "cell_type": "code",
   "execution_count": 9,
   "metadata": {},
   "outputs": [
    {
     "name": "stdout",
     "output_type": "stream",
     "text": [
      "starting iteration...\n",
      "i=0\n"
     ]
    }
   ],
   "source": [
    "i = 0\n",
    "print(\"starting iteration...\")\n",
    "for transactions in df_iter:\n",
    "    print(\"i=\"+str(i))\n",
    "    reformat_transactions(transactions)\n",
    "    user_count = Counter(transactions['msno']).most_common()\n",
    "    user_count = pd.DataFrame(user_count)\n",
    "    user_count.columns = ['msno', 'current_number_of_transactions']\n",
    "    user_count.set_index('msno', inplace=True)\n",
    "    training = pd.merge(left=training, right = user_count, how = 'left', left_index=True, right_index=True)\n",
    "    training['current_number_of_transactions'] = training.current_number_of_transactions.apply(lambda x: int(x) if pd.notnull(x) else 0)\n",
    "    training[\"total_number_of_transactions\"] += training[\"current_number_of_transactions\"]\n",
    "    training.drop(['current_number_of_transactions'], axis=1, inplace=True)\n",
    "    i+=1\n",
    "    \n",
    "    if i >0:\n",
    "        break"
   ]
  },
  {
   "cell_type": "code",
   "execution_count": null,
   "metadata": {},
   "outputs": [],
   "source": []
  },
  {
   "cell_type": "code",
   "execution_count": 10,
   "metadata": {},
   "outputs": [],
   "source": [
    "i = 0\n",
    "training.reset_index(inplace=True)\n",
    "training_copy = training.copy()"
   ]
  },
  {
   "cell_type": "code",
   "execution_count": 11,
   "metadata": {},
   "outputs": [
    {
     "name": "stdout",
     "output_type": "stream",
     "text": [
      "starting iteration, looking for most recent transaction...\n",
      "i=0\n"
     ]
    }
   ],
   "source": [
    "print(\"starting iteration, looking for most recent transaction...\")\n",
    "for transactions in df_iter:\n",
    "    print(\"i=\"+str(i))\n",
    "    \n",
    "    reformat_transactions(transactions)\n",
    "    recent_transactions = transactions.sort_values(['transaction_date']).groupby('msno').first()\n",
    "    recent_transactions.reset_index(inplace=True)\n",
    "    temp_training = pd.merge(left=training_copy, right=recent_transactions, how = 'right', on=['msno'], right_index=True)\n",
    "    training = pd.concat((training, temp_training))\n",
    "    training = training.sort_values(['transaction_date']).groupby('msno').first()\n",
    "    \n",
    "    i+=1\n",
    "    if i >0:\n",
    "        break"
   ]
  },
  {
   "cell_type": "code",
   "execution_count": 12,
   "metadata": {},
   "outputs": [],
   "source": [
    "del training_copy"
   ]
  },
  {
   "cell_type": "code",
   "execution_count": 13,
   "metadata": {},
   "outputs": [],
   "source": [
    "i = 0\n",
    "\n",
    "df_iter = pd.read_csv(path_to_data + 'transactions.csv', low_memory=False, iterator=True,\n",
    "                      chunksize=transactions_chunk_size)\n",
    "\n",
    "training[\"price_per_day\"] = training[\"actual_amount_paid\"]/(training[\"payment_plan_days\"]+0.01)\n",
    "training[\"usual_price_per_day\"] = 0"
   ]
  },
  {
   "cell_type": "code",
   "execution_count": 14,
   "metadata": {},
   "outputs": [
    {
     "name": "stdout",
     "output_type": "stream",
     "text": [
      "starting iteration, looking for usual payment method...\n",
      "i=0\n"
     ]
    }
   ],
   "source": [
    "print(\"starting iteration, looking for usual payment method...\")\n",
    "for transactions in df_iter:\n",
    "    print(\"i=\"+str(i))\n",
    "    i+=1\n",
    "    \n",
    "    transactions = reformat_transactions(transactions)\n",
    "    transactions[\"current_price_per_day\"] = transactions[\"actual_amount_paid\"]/(transactions[\"payment_plan_days\"]+0.01)\n",
    "    transactions = transactions.groupby(\"msno\").sum()\n",
    "    columns_to_keep = [\"current_price_per_day\"]\n",
    "    transactions = transactions[columns_to_keep]\n",
    "    \n",
    "    training = pd.merge(left=training, right=transactions, how = 'left', left_index=True, right_index=True)\n",
    "    \n",
    "    training[\"usual_price_per_day\"] += training[\"current_price_per_day\"]\n",
    "    training.drop(['current_price_per_day'], axis=1, inplace=True)\n",
    "    \n",
    "    if i >0:\n",
    "        break\n",
    "        \n",
    "training[\"usual_price_per_day\"] /= (training[\"total_number_of_transactions\"] + 0.01)"
   ]
  },
  {
   "cell_type": "code",
   "execution_count": null,
   "metadata": {},
   "outputs": [],
   "source": []
  }
 ],
 "metadata": {
  "kernelspec": {
   "display_name": "Python 3",
   "language": "python",
   "name": "python3"
  },
  "language_info": {
   "codemirror_mode": {
    "name": "ipython",
    "version": 3
   },
   "file_extension": ".py",
   "mimetype": "text/x-python",
   "name": "python",
   "nbconvert_exporter": "python",
   "pygments_lexer": "ipython3",
   "version": "3.5.2"
  }
 },
 "nbformat": 4,
 "nbformat_minor": 2
}
