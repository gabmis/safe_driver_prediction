{
 "cells": [
  {
   "cell_type": "code",
   "execution_count": 1,
   "metadata": {},
   "outputs": [
    {
     "name": "stdout",
     "output_type": "stream",
     "text": [
      "loading data\n"
     ]
    }
   ],
   "source": [
    "import lightgbm as lgb\n",
    "import numpy as np\n",
    "import pandas as pd\n",
    "from sklearn.model_selection import KFold\n",
    "\n",
    "from preprocessing import preproc\n",
    "from tools import log_loss_lgbm\n",
    "\n",
    "from datetime import datetime\n",
    "import time\n",
    "\n",
    "path_to_data = \"/home/raph/Downloads/\"\n",
    "\n",
    "print(\"loading data\")\n",
    "training = pd.read_csv(path_to_data+\"training.csv\")\n",
    "testing = pd.read_csv(path_to_data+\"testing.csv\")"
   ]
  },
  {
   "cell_type": "code",
   "execution_count": 25,
   "metadata": {},
   "outputs": [
    {
     "name": "stdout",
     "output_type": "stream",
     "text": [
      "[('ZnX4ChdxQMVG6LWP4L5HkivSg/PozQTSw8VHAun7cm0=', 1), ('6lSiQuRZwwyYyAIUdhtuChOlERNkLd8tTvU9z2iq7DQ=', 1), ('oyIbYlldwpg0XbBfMRW6NvkKTnkuFONPrwz2xTjD43U=', 1), ('KYSvQvMmpVlF9eo5OJUvJV1+TQvWvbrIH/PcCOu1vYw=', 1), ('0hAhlYaaNVbHUUBsXp62jeuAYc4024xbguIrXI/iQ9Y=', 1), ('Fc+Qjcp+lNGi6WruXYzfCTS9ncnqA1bDRsGoLcMWwfI=', 1), ('Nqw5p5FXezVmKcTN3VRO02844tv+sHkG06fiB5XYsxY=', 1), ('v9m/fnWQrQZQ0eZMx2X+4FORS36u4ismp6D1EvFYF/4=', 1), ('rGnXG/VH8lLJ9XYeQHpT+Hz585zDITHfAEuR2GMVlUA=', 1), ('y1UT4JX2swIe1IWvyZEOM/yhClcp9M8X35h953WymjM=', 1)]\n"
     ]
    }
   ],
   "source": [
    "path_to_data = \"/home/raph/Downloads/\"\n",
    "to_submit = pd.read_csv(path_to_data+\"training.csv\")"
   ]
  },
  {
   "cell_type": "code",
   "execution_count": 2,
   "metadata": {},
   "outputs": [
    {
     "name": "stdout",
     "output_type": "stream",
     "text": [
      "changing dates to time stamps\n"
     ]
    }
   ],
   "source": [
    "print(\"changing dates to time stamps\")\n",
    "training[\"membership_expire_date\"] = training.membership_expire_date.apply(lambda x: datetime.strptime(str(x), \"%Y-%m-%d\").date() if pd.notnull(x) else x)\n",
    "training[\"membership_expire_date\"] = training.membership_expire_date.apply(lambda x: time.mktime(x.timetuple()) if pd.notnull(x) else 0.0)\n",
    "\n",
    "training[\"transaction_date\"] = training.transaction_date.apply(lambda x: datetime.strptime(str(x), \"%Y-%m-%d\").date() if pd.notnull(x) else x)\n",
    "training[\"transaction_date\"] = training.transaction_date.apply(lambda x: time.mktime(x.timetuple()) if pd.notnull(x) else 0.0)\n",
    "\n",
    "training[\"registration_init_time\"] = training.registration_init_time.apply(lambda x: datetime.strptime(str(x), \"%Y-%m-%d\").date() if pd.notnull(x) else x)\n",
    "training[\"registration_init_time\"] = training.registration_init_time.apply(lambda x: time.mktime(x.timetuple()) if pd.notnull(x) else 0.0)\n",
    "\n",
    "testing[\"membership_expire_date\"] = testing.membership_expire_date.apply(lambda x: datetime.strptime(str(x), \"%Y-%m-%d\").date() if pd.notnull(x) else x)\n",
    "testing[\"membership_expire_date\"] = testing.membership_expire_date.apply(lambda x: time.mktime(x.timetuple()) if pd.notnull(x) else 0.0)\n",
    "\n",
    "testing[\"transaction_date\"] = testing.transaction_date.apply(lambda x: datetime.strptime(str(x), \"%Y-%m-%d\").date() if pd.notnull(x) else x)\n",
    "testing[\"transaction_date\"] = testing.transaction_date.apply(lambda x: time.mktime(x.timetuple()) if pd.notnull(x) else 0.0)\n",
    "\n",
    "testing[\"registration_init_time\"] = testing.registration_init_time.apply(lambda x: datetime.strptime(str(x), \"%Y-%m-%d\").date() if pd.notnull(x) else x)\n",
    "testing[\"registration_init_time\"] = testing.registration_init_time.apply(lambda x: time.mktime(x.timetuple()) if pd.notnull(x) else 0.0)"
   ]
  },
  {
   "cell_type": "code",
   "execution_count": 3,
   "metadata": {},
   "outputs": [
    {
     "name": "stdout",
     "output_type": "stream",
     "text": [
      "preprocessing\n"
     ]
    }
   ],
   "source": [
    "print(\"preprocessing\")\n",
    "X_train, y_train = preproc(training, mode='train', oneHot=False)\n",
    "X_test, y_test = preproc(testing, mode=\"test\", oneHot=False)\n",
    "\n",
    "# parameters\n",
    "params = {\n",
    "    'task': 'train',\n",
    "    'boosting_type': 'gbdt',\n",
    "    'objective': 'regression',\n",
    "    'metric': {'binary_logloss'},\n",
    "    'num_leaves': 31,\n",
    "    'learning_rate': 0.05,\n",
    "    'feature_fraction': 0.9,\n",
    "    'bagging_fraction': 0.8,\n",
    "    'bagging_freq': 5,\n",
    "    'verbose': 0\n",
    "}\n",
    "\n",
    "i = 0\n",
    "K = 5\n",
    "kf = KFold(n_splits=K, random_state=42, shuffle=True)\n",
    "\n",
    "# training with KFold Cross Validation\n",
    "results = []\n",
    "weights = np.zeros(len(y_train))\n",
    "weights[y_train == 0] = 1\n",
    "weights[y_train == 1] = 2"
   ]
  },
  {
   "cell_type": "code",
   "execution_count": 4,
   "metadata": {},
   "outputs": [
    {
     "name": "stdout",
     "output_type": "stream",
     "text": [
      "Start training...\n",
      "Training until validation scores don't improve for 10 rounds.\n",
      "[5]\tvalid_0's binary_logloss: 0.355607\tvalid_0's log loss: 0.242459\n",
      "[10]\tvalid_0's binary_logloss: 0.2852\tvalid_0's log loss: 0.199903\n",
      "Early stopping, best iteration is:\n",
      "[1]\tvalid_0's binary_logloss: 0.472832\tvalid_0's log loss: 0.311693\n",
      "Training until validation scores don't improve for 10 rounds.\n",
      "[5]\tvalid_0's binary_logloss: 0.35726\tvalid_0's log loss: 0.243412\n",
      "[10]\tvalid_0's binary_logloss: 0.286739\tvalid_0's log loss: 0.200802\n",
      "Early stopping, best iteration is:\n",
      "[1]\tvalid_0's binary_logloss: 0.475021\tvalid_0's log loss: 0.31294\n",
      "Training until validation scores don't improve for 10 rounds.\n",
      "[5]\tvalid_0's binary_logloss: 0.35545\tvalid_0's log loss: 0.242334\n",
      "[10]\tvalid_0's binary_logloss: 0.285155\tvalid_0's log loss: 0.199788\n",
      "Early stopping, best iteration is:\n",
      "[1]\tvalid_0's binary_logloss: 0.472519\tvalid_0's log loss: 0.311503\n",
      "Training until validation scores don't improve for 10 rounds.\n",
      "[5]\tvalid_0's binary_logloss: 0.354399\tvalid_0's log loss: 0.241766\n",
      "[10]\tvalid_0's binary_logloss: 0.284292\tvalid_0's log loss: 0.199361\n",
      "Early stopping, best iteration is:\n",
      "[1]\tvalid_0's binary_logloss: 0.471494\tvalid_0's log loss: 0.310924\n",
      "Training until validation scores don't improve for 10 rounds.\n",
      "[5]\tvalid_0's binary_logloss: 0.354669\tvalid_0's log loss: 0.241955\n",
      "[10]\tvalid_0's binary_logloss: 0.283997\tvalid_0's log loss: 0.199222\n",
      "Early stopping, best iteration is:\n",
      "[1]\tvalid_0's binary_logloss: 0.471903\tvalid_0's log loss: 0.311165\n"
     ]
    }
   ],
   "source": [
    "print('Start training...')\n",
    "for train_index, test_index in kf.split(X_train):\n",
    "    lgb_train = lgb.Dataset(X_train[train_index], y_train[train_index], weight=weights[train_index])\n",
    "    lgb_eval = lgb.Dataset(X_train[test_index], y_train[test_index], reference=lgb_train, weight=weights[test_index])\n",
    "    gbm = lgb.train(params,\n",
    "        train_set=lgb_train,\n",
    "        num_boost_round=200,\n",
    "        valid_sets=lgb_eval,\n",
    "        early_stopping_rounds=10,\n",
    "        verbose_eval=5,\n",
    "        feval=log_loss_lgbm)\n",
    "    res = gbm.predict(X_test)\n",
    "    i += 1\n",
    "    results.append(res)"
   ]
  },
  {
   "cell_type": "code",
   "execution_count": 5,
   "metadata": {},
   "outputs": [],
   "source": [
    "submission = pd.DataFrame((results[0] + results[1] + results[2] + results[3] + results[4]) / 5)"
   ]
  },
  {
   "cell_type": "code",
   "execution_count": 8,
   "metadata": {},
   "outputs": [],
   "source": [
    "submission.columns = [\"is_churn\"]"
   ]
  },
  {
   "cell_type": "code",
   "execution_count": 11,
   "metadata": {},
   "outputs": [
    {
     "data": {
      "text/html": [
       "<div>\n",
       "<style scoped>\n",
       "    .dataframe tbody tr th:only-of-type {\n",
       "        vertical-align: middle;\n",
       "    }\n",
       "\n",
       "    .dataframe tbody tr th {\n",
       "        vertical-align: top;\n",
       "    }\n",
       "\n",
       "    .dataframe thead th {\n",
       "        text-align: right;\n",
       "    }\n",
       "</style>\n",
       "<table border=\"1\" class=\"dataframe\">\n",
       "  <thead>\n",
       "    <tr style=\"text-align: right;\">\n",
       "      <th></th>\n",
       "      <th>is_churn</th>\n",
       "    </tr>\n",
       "  </thead>\n",
       "  <tbody>\n",
       "    <tr>\n",
       "      <th>count</th>\n",
       "      <td>1.076941e+06</td>\n",
       "    </tr>\n",
       "    <tr>\n",
       "      <th>mean</th>\n",
       "      <td>1.083442e-01</td>\n",
       "    </tr>\n",
       "    <tr>\n",
       "      <th>std</th>\n",
       "      <td>1.259450e-02</td>\n",
       "    </tr>\n",
       "    <tr>\n",
       "      <th>min</th>\n",
       "      <td>1.033879e-01</td>\n",
       "    </tr>\n",
       "    <tr>\n",
       "      <th>25%</th>\n",
       "      <td>1.033879e-01</td>\n",
       "    </tr>\n",
       "    <tr>\n",
       "      <th>50%</th>\n",
       "      <td>1.034919e-01</td>\n",
       "    </tr>\n",
       "    <tr>\n",
       "      <th>75%</th>\n",
       "      <td>1.034919e-01</td>\n",
       "    </tr>\n",
       "    <tr>\n",
       "      <th>max</th>\n",
       "      <td>1.513947e-01</td>\n",
       "    </tr>\n",
       "  </tbody>\n",
       "</table>\n",
       "</div>"
      ],
      "text/plain": [
       "           is_churn\n",
       "count  1.076941e+06\n",
       "mean   1.083442e-01\n",
       "std    1.259450e-02\n",
       "min    1.033879e-01\n",
       "25%    1.033879e-01\n",
       "50%    1.034919e-01\n",
       "75%    1.034919e-01\n",
       "max    1.513947e-01"
      ]
     },
     "execution_count": 11,
     "metadata": {},
     "output_type": "execute_result"
    }
   ],
   "source": [
    "submission.describe()"
   ]
  },
  {
   "cell_type": "code",
   "execution_count": 10,
   "metadata": {},
   "outputs": [],
   "source": [
    "submission[\"msno\"] = testing[\"msno\"]"
   ]
  },
  {
   "cell_type": "code",
   "execution_count": 12,
   "metadata": {},
   "outputs": [
    {
     "data": {
      "text/html": [
       "<div>\n",
       "<style scoped>\n",
       "    .dataframe tbody tr th:only-of-type {\n",
       "        vertical-align: middle;\n",
       "    }\n",
       "\n",
       "    .dataframe tbody tr th {\n",
       "        vertical-align: top;\n",
       "    }\n",
       "\n",
       "    .dataframe thead th {\n",
       "        text-align: right;\n",
       "    }\n",
       "</style>\n",
       "<table border=\"1\" class=\"dataframe\">\n",
       "  <thead>\n",
       "    <tr style=\"text-align: right;\">\n",
       "      <th></th>\n",
       "      <th>is_churn</th>\n",
       "      <th>msno</th>\n",
       "    </tr>\n",
       "  </thead>\n",
       "  <tbody>\n",
       "    <tr>\n",
       "      <th>0</th>\n",
       "      <td>0.103388</td>\n",
       "      <td>+++hVY1rZox/33YtvDgmKA2Frg/2qhkz12B9ylCvh8o=</td>\n",
       "    </tr>\n",
       "    <tr>\n",
       "      <th>1</th>\n",
       "      <td>0.103652</td>\n",
       "      <td>+++l/EXNMLTijfLBa8p2TUVVVp2aFGSuUI/h7mLmthw=</td>\n",
       "    </tr>\n",
       "    <tr>\n",
       "      <th>2</th>\n",
       "      <td>0.103388</td>\n",
       "      <td>+++snpr7pmobhLKUgSHTv/mpkqgBT0tQJ0zQj6qKrqc=</td>\n",
       "    </tr>\n",
       "    <tr>\n",
       "      <th>3</th>\n",
       "      <td>0.103388</td>\n",
       "      <td>++/9R3sX37CjxbY/AaGvbwr3QkwElKBCtSvVzhCBDOk=</td>\n",
       "    </tr>\n",
       "    <tr>\n",
       "      <th>4</th>\n",
       "      <td>0.103652</td>\n",
       "      <td>++/UDNo9DLrxT8QVGiDi1OnWfczAdEwThaVyD0fXO50=</td>\n",
       "    </tr>\n",
       "  </tbody>\n",
       "</table>\n",
       "</div>"
      ],
      "text/plain": [
       "   is_churn                                          msno\n",
       "0  0.103388  +++hVY1rZox/33YtvDgmKA2Frg/2qhkz12B9ylCvh8o=\n",
       "1  0.103652  +++l/EXNMLTijfLBa8p2TUVVVp2aFGSuUI/h7mLmthw=\n",
       "2  0.103388  +++snpr7pmobhLKUgSHTv/mpkqgBT0tQJ0zQj6qKrqc=\n",
       "3  0.103388  ++/9R3sX37CjxbY/AaGvbwr3QkwElKBCtSvVzhCBDOk=\n",
       "4  0.103652  ++/UDNo9DLrxT8QVGiDi1OnWfczAdEwThaVyD0fXO50="
      ]
     },
     "execution_count": 12,
     "metadata": {},
     "output_type": "execute_result"
    }
   ],
   "source": [
    "submission.head()"
   ]
  },
  {
   "cell_type": "markdown",
   "metadata": {},
   "source": []
  },
  {
   "cell_type": "code",
   "execution_count": 13,
   "metadata": {},
   "outputs": [
    {
     "name": "stdout",
     "output_type": "stream",
     "text": [
      "created submission file\n"
     ]
    }
   ],
   "source": [
    "submission.to_csv('5Kfold_lgbm.csv', header=True, index=False)\n",
    "print(\"created submission file\")"
   ]
  },
  {
   "cell_type": "code",
   "execution_count": 14,
   "metadata": {},
   "outputs": [
    {
     "data": {
      "text/html": [
       "<div>\n",
       "<style scoped>\n",
       "    .dataframe tbody tr th:only-of-type {\n",
       "        vertical-align: middle;\n",
       "    }\n",
       "\n",
       "    .dataframe tbody tr th {\n",
       "        vertical-align: top;\n",
       "    }\n",
       "\n",
       "    .dataframe thead th {\n",
       "        text-align: right;\n",
       "    }\n",
       "</style>\n",
       "<table border=\"1\" class=\"dataframe\">\n",
       "  <thead>\n",
       "    <tr style=\"text-align: right;\">\n",
       "      <th></th>\n",
       "      <th>is_churn</th>\n",
       "    </tr>\n",
       "  </thead>\n",
       "  <tbody>\n",
       "    <tr>\n",
       "      <th>count</th>\n",
       "      <td>1.076941e+06</td>\n",
       "    </tr>\n",
       "    <tr>\n",
       "      <th>mean</th>\n",
       "      <td>1.083442e-01</td>\n",
       "    </tr>\n",
       "    <tr>\n",
       "      <th>std</th>\n",
       "      <td>1.259450e-02</td>\n",
       "    </tr>\n",
       "    <tr>\n",
       "      <th>min</th>\n",
       "      <td>1.033879e-01</td>\n",
       "    </tr>\n",
       "    <tr>\n",
       "      <th>25%</th>\n",
       "      <td>1.033879e-01</td>\n",
       "    </tr>\n",
       "    <tr>\n",
       "      <th>50%</th>\n",
       "      <td>1.034919e-01</td>\n",
       "    </tr>\n",
       "    <tr>\n",
       "      <th>75%</th>\n",
       "      <td>1.034919e-01</td>\n",
       "    </tr>\n",
       "    <tr>\n",
       "      <th>max</th>\n",
       "      <td>1.513947e-01</td>\n",
       "    </tr>\n",
       "  </tbody>\n",
       "</table>\n",
       "</div>"
      ],
      "text/plain": [
       "           is_churn\n",
       "count  1.076941e+06\n",
       "mean   1.083442e-01\n",
       "std    1.259450e-02\n",
       "min    1.033879e-01\n",
       "25%    1.033879e-01\n",
       "50%    1.034919e-01\n",
       "75%    1.034919e-01\n",
       "max    1.513947e-01"
      ]
     },
     "execution_count": 14,
     "metadata": {},
     "output_type": "execute_result"
    }
   ],
   "source": [
    "submission.describe()"
   ]
  },
  {
   "cell_type": "code",
   "execution_count": null,
   "metadata": {},
   "outputs": [],
   "source": []
  }
 ],
 "metadata": {
  "kernelspec": {
   "display_name": "Python 3",
   "language": "python",
   "name": "python3"
  },
  "language_info": {
   "codemirror_mode": {
    "name": "ipython",
    "version": 3
   },
   "file_extension": ".py",
   "mimetype": "text/x-python",
   "name": "python",
   "nbconvert_exporter": "python",
   "pygments_lexer": "ipython3",
   "version": "3.5.2"
  }
 },
 "nbformat": 4,
 "nbformat_minor": 2
}
