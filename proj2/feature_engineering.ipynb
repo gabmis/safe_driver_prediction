{
 "cells": [
  {
   "cell_type": "code",
   "execution_count": null,
   "metadata": {},
   "outputs": [],
   "source": [
    "import numpy as np\n",
    "import pandas as pd\n",
    "import matplotlib.pyplot as plt\n",
    "import seaborn as sns\n",
    "import time\n",
    "from datetime import datetime\n",
    "from collections import Counter\n",
    "from subprocess import check_output"
   ]
  },
  {
   "cell_type": "code",
   "execution_count": null,
   "metadata": {},
   "outputs": [],
   "source": [
    "path_to_data = \"/media/raph/Elements/ml1/churn/\"\n",
    "nrows_for_members = None\n",
    "nrows_for_train = 10000\n",
    "nrows_for_train_v2 = 10000\n",
    "nrows_for_transactions = 300000\n",
    "nrows_for_transactions_v2 = 300000\n",
    "nrows_for_test = None\n",
    "nrows_for_test_v2 = None"
   ]
  },
  {
   "cell_type": "code",
   "execution_count": null,
   "metadata": {},
   "outputs": [],
   "source": [
    "train = pd.read_csv(path_to_data+\"train_v2.csv\", nrows=nrows_for_train_v2)\n",
    "train = pd.concat((train, pd.read_csv(path_to_data+\"train.csv\", nrows=nrows_for_train)), axis=0, ignore_index=True).reset_index(drop=True)\n",
    "members = pd.read_csv(path_to_data + \"members_v3.csv\", nrows=nrows_for_members)\n",
    "transactions = pd.read_csv(path_to_data+\"transactions.csv\", nrows=nrows_for_transactions)\n",
    "transactions = pd.concat((transactions, pd.read_csv(path_to_data+\"transactions_v2.csv\", nrows=nrows_for_transactions_v2)), axis=0, ignore_index=True).reset_index(drop=True)\n",
    "test = pd.read_csv(path_to_data+\"sample_submission_v2.csv\", nrows=nrows_for_test_v2)\n",
    "test = pd.concat((test, pd.read_csv(path_to_data+\"sample_submission_zero.csv\", nrows=nrows_for_test)), axis=0, ignore_index=True).reset_index(drop=True)"
   ]
  },
  {
   "cell_type": "code",
   "execution_count": null,
   "metadata": {},
   "outputs": [],
   "source": [
    "training = pd.merge(left = train,right = members,how = 'left',on=['msno'])\n",
    "del train\n",
    "testing = pd.merge(left = test,right = members,how = 'left',on=['msno'])\n",
    "del test\n",
    "del members"
   ]
  },
  {
   "cell_type": "code",
   "execution_count": null,
   "metadata": {},
   "outputs": [],
   "source": [
    "# changing type to int and putting -1 for missing values\n",
    "training['city'] = training.city.apply(lambda x: int(x) if pd.notnull(x) else -1)\n",
    "training['registered_via'] = training.registered_via.apply(lambda x: int(x) if pd.notnull(x) else -1)\n",
    "training['bd'] = training.bd.apply(lambda x: int(x) if pd.notnull(x) else -1)\n",
    "training['bd'] = training.bd.apply(lambda x: x if (10<x<100) else -1)\n",
    "\n",
    "# encode gender\n",
    "genders_encoding = {'male': 0, 'female': 1}\n",
    "training['gender'] = training.gender.apply(lambda x: genders_encoding[x] if pd.notnull(x) else -1)\n",
    "\n",
    "# changing date formats\n",
    "training['registration_init_time'] = training.registration_init_time.apply(lambda x: datetime.strptime(str(int(x)), \"%Y%m%d\").date() if pd.notnull(x) else \"NAN\")\n",
    "transactions['transaction_date'] = transactions.transaction_date.apply(lambda x: datetime.strptime(str(int(x)), \"%Y%m%d\").date() if pd.notnull(x) else \"NAN\")\n",
    "transactions['membership_expire_date'] = transactions.membership_expire_date.apply(lambda x: datetime.strptime(str(int(x)), \"%Y%m%d\").date() if pd.notnull(x) else \"NAN\")\n",
    "transactions['payment_method_id'] = transactions.payment_method_id.apply(lambda x: int(x) if pd.notnull(x) else -1)"
   ]
  },
  {
   "cell_type": "code",
   "execution_count": null,
   "metadata": {},
   "outputs": [],
   "source": [
    "transactions = transactions.drop(transactions[\"transaction_date\"] < datetime.strptime(\"20170201\", \"%Y%m%d\").date())"
   ]
  },
  {
   "cell_type": "code",
   "execution_count": null,
   "metadata": {},
   "outputs": [],
   "source": [
    "def change_datatype(df):\n",
    "    int_cols = list(df.select_dtypes(include=['int']).columns)\n",
    "    for col in int_cols:\n",
    "        if ((np.max(df[col]) <= 127) and(np.min(df[col] >= -128))):\n",
    "            df[col] = df[col].astype(np.int8)\n",
    "        elif ((np.max(df[col]) <= 32767) and(np.min(df[col] >= -32768))):\n",
    "            df[col] = df[col].astype(np.int16)\n",
    "        elif ((np.max(df[col]) <= 2147483647) and(np.min(df[col] >= -2147483648))):\n",
    "            df[col] = df[col].astype(np.int32)\n",
    "        else:\n",
    "            df[col] = df[col].astype(np.int64)\n",
    "\n",
    "def change_datatype_float(df):\n",
    "    float_cols = list(df.select_dtypes(include=['float']).columns)\n",
    "    for col in float_cols:\n",
    "        df[col] = df[col].astype(np.float32)\n",
    "        \n",
    "def memory_usage(df):\n",
    "    mem = df.memory_usage(index=True).sum()\n",
    "    return mem/ 1024**2,\" MB\""
   ]
  },
  {
   "cell_type": "code",
   "execution_count": null,
   "metadata": {},
   "outputs": [],
   "source": [
    "# reducing memory usage:\n",
    "change_datatype(training)\n",
    "change_datatype_float(training)\n",
    "\n",
    "change_datatype(transactions)\n",
    "change_datatype_float(transactions)\n",
    "\n",
    "change_datatype(testing)\n",
    "change_datatype_float(testing)"
   ]
  },
  {
   "cell_type": "code",
   "execution_count": null,
   "metadata": {},
   "outputs": [],
   "source": [
    "training.set_index('msno', inplace=True)\n",
    "user_count = Counter(transactions['msno']).most_common()"
   ]
  },
  {
   "cell_type": "code",
   "execution_count": null,
   "metadata": {},
   "outputs": [],
   "source": [
    "user_count_2 = pd.DataFrame(user_count)\n",
    "user_count_2.columns = ['msno', 'number_of_transactions']\n",
    "user_count_2.set_index('msno', inplace=True)\n",
    "training = pd.merge(left = training,right = user_count_2, how = 'left', left_index=True, right_index=True)\n",
    "training.describe()"
   ]
  },
  {
   "cell_type": "code",
   "execution_count": null,
   "metadata": {},
   "outputs": [],
   "source": [
    "training.head()"
   ]
  },
  {
   "cell_type": "code",
   "execution_count": null,
   "metadata": {},
   "outputs": [],
   "source": [
    "training['number_of_transactions'] = training.number_of_transactions.apply(lambda x: int(x) if pd.notnull(x) else 0)\n",
    "training.describe()"
   ]
  },
  {
   "cell_type": "code",
   "execution_count": null,
   "metadata": {},
   "outputs": [],
   "source": [
    "transactions_2 = transactions.groupby(by=['msno'], sort=False)"
   ]
  },
  {
   "cell_type": "code",
   "execution_count": null,
   "metadata": {},
   "outputs": [],
   "source": [
    "usual_payment_plan = pd.DataFrame(transactions_2[\"payment_plan_days\"].mean())\n",
    "usual_payment_plan.columns = [\"usual_payment_plan_days\"]\n",
    "training = pd.merge(left=training, right=usual_payment_plan, how = 'left', left_index=True, right_index=True)\n",
    "training['usual_payment_plan_days'] = training.usual_payment_plan_days.apply(lambda x: int(x) if pd.notnull(x) else 0)\n",
    "training.head()"
   ]
  },
  {
   "cell_type": "code",
   "execution_count": null,
   "metadata": {},
   "outputs": [],
   "source": [
    "transactions.head()"
   ]
  },
  {
   "cell_type": "code",
   "execution_count": null,
   "metadata": {},
   "outputs": [],
   "source": [
    "transactions[\"price_per_day\"] = transactions[\"actual_amount_paid\"]/(transactions[\"payment_plan_days\"]+0.01)\n",
    "transactions.head()"
   ]
  },
  {
   "cell_type": "code",
   "execution_count": null,
   "metadata": {},
   "outputs": [],
   "source": [
    "transactions_2 = transactions.groupby(by=['msno'], sort=False)\n",
    "usual_price_per_day = pd.DataFrame(transactions_2[\"price_per_day\"].mean())\n",
    "usual_price_per_day.columns = [\"usual_price_per_day\"]\n",
    "training = pd.merge(left=training, right=usual_price_per_day, how = 'left', left_index=True, right_index=True)\n",
    "training['usual_price_per_day'] = training.usual_price_per_day.apply(lambda x: x if pd.notnull(x) else 0)\n",
    "training.head()"
   ]
  },
  {
   "cell_type": "code",
   "execution_count": null,
   "metadata": {},
   "outputs": [],
   "source": [
    "recent_transactions = transactions.sort_values(['transaction_date']).groupby('msno').first()"
   ]
  },
  {
   "cell_type": "code",
   "execution_count": null,
   "metadata": {},
   "outputs": [],
   "source": [
    "recent_transactions.head()"
   ]
  },
  {
   "cell_type": "code",
   "execution_count": null,
   "metadata": {},
   "outputs": [],
   "source": [
    "training = pd.merge(left=training, right=recent_transactions, how = 'left', on=['msno'])\n",
    "training.head()"
   ]
  },
  {
   "cell_type": "code",
   "execution_count": null,
   "metadata": {},
   "outputs": [],
   "source": [
    ""
   ]
  }
 ],
 "metadata": {
  "kernelspec": {
   "display_name": "Python 3",
   "language": "python",
   "name": "python3"
  },
  "language_info": {
   "codemirror_mode": {
    "name": "ipython",
    "version": 3.0
   },
   "file_extension": ".py",
   "mimetype": "text/x-python",
   "name": "python",
   "nbconvert_exporter": "python",
   "pygments_lexer": "ipython3",
   "version": "3.5.2"
  }
 },
 "nbformat": 4,
 "nbformat_minor": 0
}