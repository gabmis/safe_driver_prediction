{
 "cells": [
  {
   "cell_type": "markdown",
   "metadata": {},
   "source": [
    "La première étape de l'entraînement consiste à réarranger les données que l'on traite. En effet, parmi les features présente, une partie sont continues, mais d'autres sont des variables binaires et catégorique. Par ailleurs, pour un certain nombre d'entrées, des données sont manquante. \n",
    "Dans un premier temps, nous séparons les variables continues des variables discontinues (les variables binaires peuvent être considérées comme des variables catégoriques) et nous remplaçons les données manquantes par des données issues du reste du dataset. Pour les variables catégoriques, nous avons choisi de remplacer les valeurs manquante par la catégorie majoriataire, pour les variables continues par la moyenne de celle-ci.\n",
    "Pour certains modèles, nous avons aussi choisi d'encoder les variables catégoriques en considérant chaque catégorie comme une feature, ce qui a pour effet des remplacer une variable catégorique à N catégorie par N-1 variables binaires.\n",
    "Enfin, une autre transformation possible est un rescaling qui est par exemple necessaire pour avoir un poid equivalent pour chaque feature dans un réseau de neurone."
   ]
  },
  {
   "cell_type": "markdown",
   "metadata": {},
   "source": []
  }
 ],
 "metadata": {
  "kernelspec": {
   "display_name": "Python 3",
   "language": "python",
   "name": "python3"
  },
  "language_info": {
   "codemirror_mode": {
    "name": "ipython",
    "version": 3
   },
   "file_extension": ".py",
   "mimetype": "text/x-python",
   "name": "python",
   "nbconvert_exporter": "python",
   "pygments_lexer": "ipython3",
   "version": "3.6.1"
  }
 },
 "nbformat": 4,
 "nbformat_minor": 2
}
