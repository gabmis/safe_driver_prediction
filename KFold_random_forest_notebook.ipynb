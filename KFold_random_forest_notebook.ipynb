{
 "cells": [
  {
   "cell_type": "code",
   "execution_count": 10,
   "metadata": {},
   "outputs": [],
   "source": [
    "import pandas as pd\n",
    "from sklearn.ensemble import RandomForestClassifier\n",
    "from sklearn.model_selection import KFold\n",
    "\n",
    "from util import gini_normalized\n",
    "from parameters import parameters, batch_size, epochs, layers, activation_functions, loss, alpha\n",
    "from preprocessing import preproc"
   ]
  },
  {
   "cell_type": "code",
   "execution_count": 3,
   "metadata": {},
   "outputs": [
    {
     "name": "stdout",
     "output_type": "stream",
     "text": [
      "replacing missing values\n",
      "number of examples: 595212\n",
      "One hot encoding\n",
      "replacing missing values\n",
      "number of examples: 892816\n",
      "One hot encoding\n"
     ]
    }
   ],
   "source": [
    "# Importing the train dataset\n",
    "dataset_train = pd.read_csv('train.csv')\n",
    "\n",
    "# Importing the test dataset\n",
    "dataset_test = pd.read_csv('test.csv')\n",
    "# preprocessing train dataset\n",
    "X_train, y_train, scaler = preproc(dataset_train, 'train', oneHot=True, scale=True)\n",
    "\n",
    "# preprocessing test dataset\n",
    "X_test, y_test = preproc(dataset_test, 'test', oneHot=True, scale=True, scaler=scaler)"
   ]
  },
  {
   "cell_type": "code",
   "execution_count": 13,
   "metadata": {},
   "outputs": [],
   "source": [
    "# Now let's make the Classifier!\n",
    "# Fitting Random Forest Classification to the Training set\n",
    "\n",
    "class_weight = {0: 1., 1: alpha}\n",
    "K = 5\n",
    "kf = KFold(n_splits=K, random_state=42, shuffle=True)"
   ]
  },
  {
   "cell_type": "code",
   "execution_count": 14,
   "metadata": {},
   "outputs": [
    {
     "name": "stdout",
     "output_type": "stream",
     "text": [
      "gini_eval 0\n",
      "0.00441746415839\n",
      "gini_eval 1\n",
      "-0.00416216204009\n",
      "gini_eval 2\n",
      "0.0109293079593\n",
      "gini_eval 3\n",
      "0.00672694917315\n",
      "gini_eval 4\n",
      "-0.014069328085\n"
     ]
    }
   ],
   "source": [
    "i=0\n",
    "results = []\n",
    "for train_index, test_index in kf.split(X_train):\n",
    "    train_x, train_y = X_train[train_index], y_train[train_index]\n",
    "    eval_x, eval_y = X_train[test_index], y_train[test_index]\n",
    "    classifier = RandomForestClassifier(n_estimators=10, criterion = 'gini', random_state = 1, max_features='auto', class_weight=class_weight)\n",
    "    classifier.fit(train_x, train_y)\n",
    "    res_eval = classifier.predict(eval_x)\n",
    "    res = classifier.predict(X_test)\n",
    "    results.append(res)\n",
    "    print('gini_eval', i)\n",
    "    gini_score = gini_normalized(eval_y, res_eval)\n",
    "    print(gini_score)\n",
    "    i+=1\n"
   ]
  },
  {
   "cell_type": "markdown",
   "metadata": {},
   "source": [
    "gini_eval 0\n",
    "0.00441746415839\n",
    "gini_eval 1\n",
    "-0.00416216204009\n",
    "gini_eval 2\n",
    "0.0109293079593\n",
    "gini_eval 3\n",
    "0.00672694917315\n",
    "gini_eval 4\n",
    "-0.014069328085\n"
   ]
  },
  {
   "cell_type": "code",
   "execution_count": 15,
   "metadata": {},
   "outputs": [
    {
     "data": {
      "text/plain": [
       "[array([0, 0, 0, ..., 0, 0, 0]),\n",
       " array([0, 0, 0, ..., 0, 0, 0]),\n",
       " array([0, 0, 0, ..., 0, 0, 0]),\n",
       " array([0, 0, 0, ..., 0, 0, 0]),\n",
       " array([0, 0, 0, ..., 0, 0, 0])]"
      ]
     },
     "execution_count": 15,
     "metadata": {},
     "output_type": "execute_result"
    }
   ],
   "source": [
    "results"
   ]
  },
  {
   "cell_type": "code",
   "execution_count": null,
   "metadata": {
    "collapsed": true
   },
   "outputs": [],
   "source": []
  }
 ],
 "metadata": {
  "kernelspec": {
   "display_name": "Python 3",
   "language": "python",
   "name": "python3"
  },
  "language_info": {
   "codemirror_mode": {
    "name": "ipython",
    "version": 3
   },
   "file_extension": ".py",
   "mimetype": "text/x-python",
   "name": "python",
   "nbconvert_exporter": "python",
   "pygments_lexer": "ipython3",
   "version": "3.6.1"
  }
 },
 "nbformat": 4,
 "nbformat_minor": 2
}
