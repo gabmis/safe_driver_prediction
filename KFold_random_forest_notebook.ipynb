{
 "cells": [
  {
   "cell_type": "code",
   "execution_count": 1,
   "metadata": {
    "collapsed": true
   },
   "outputs": [],
   "source": [
    "import pandas as pd\n",
    "from sklearn.ensemble import RandomForestClassifier\n",
    "from sklearn.model_selection import KFold\n",
    "\n",
    "from util import gini_normalized\n",
    "from parameters import parameters, batch_size, epochs, layers, activation_functions, loss, alpha\n",
    "from preprocessing import preproc"
   ]
  },
  {
   "cell_type": "code",
   "execution_count": 2,
   "metadata": {},
   "outputs": [
    {
     "name": "stdout",
     "output_type": "stream",
     "text": [
      "getting feature selection from cache\n",
      "replacing missing values\n",
      "number of examples: 595212\n",
      "getting feature selection from cache\n",
      "replacing missing values\n",
      "number of examples: 892816\n"
     ]
    }
   ],
   "source": [
    "# Importing the train dataset\n",
    "dataset_train = pd.read_csv('train.csv')\n",
    "\n",
    "# Importing the test dataset\n",
    "dataset_test = pd.read_csv('test.csv')\n",
    "# preprocessing train dataset\n",
    "X_train, y_train = preproc(dataset_train, 'train', oneHot=False, feature_selection=True)\n",
    "\n",
    "# preprocessing test dataset\n",
    "X_test, y_test = preproc(dataset_test, 'test', oneHot=False, feature_selection=True)"
   ]
  },
  {
   "cell_type": "code",
   "execution_count": 3,
   "metadata": {
    "collapsed": true
   },
   "outputs": [],
   "source": [
    "# Now let's make the Classifier!\n",
    "# Fitting Random Forest Classification to the Training set\n",
    "\n",
    "class_weight = {0: 1., 1: alpha}\n",
    "K = 5\n",
    "kf = KFold(n_splits=K, random_state=42, shuffle=True)"
   ]
  },
  {
   "cell_type": "code",
   "execution_count": 4,
   "metadata": {},
   "outputs": [
    {
     "name": "stdout",
     "output_type": "stream",
     "text": [
      "gini_eval 0\n",
      "0.0396813383823\n",
      "gini_eval 1\n",
      "0.0437326368221\n",
      "gini_eval 2\n",
      "0.0502027668516\n",
      "gini_eval 3\n",
      "0.0404943812147\n",
      "gini_eval 4\n",
      "0.0304418354861\n"
     ]
    }
   ],
   "source": [
    "i=0\n",
    "results = []\n",
    "for train_index, test_index in kf.split(X_train):\n",
    "    train_x, train_y = X_train[train_index], y_train[train_index]\n",
    "    eval_x, eval_y = X_train[test_index], y_train[test_index]\n",
    "    classifier = RandomForestClassifier(n_estimators=30, criterion = 'gini', max_depth=5, random_state = 1, max_features='auto', class_weight=class_weight)\n",
    "    classifier.fit(train_x, train_y)\n",
    "    res_eval = classifier.predict(eval_x)\n",
    "    res = classifier.predict(X_test)\n",
    "    results.append(res)\n",
    "    print('gini_eval', i)\n",
    "    gini_score = gini_normalized(eval_y, res_eval)\n",
    "    print(gini_score)\n",
    "    i+=1\n"
   ]
  },
  {
   "cell_type": "code",
   "execution_count": 5,
   "metadata": {
    "collapsed": true
   },
   "outputs": [],
   "source": [
    "def to_csv(y_pred, ids):\n",
    "    import csv\n",
    "    with open('sumbission_5Kfold_random_forest.csv', 'w') as csvfile:\n",
    "        spamwriter = csv.writer(csvfile, delimiter=',')\n",
    "        spamwriter.writerow(['id', 'target'])\n",
    "        for i in range(len(y_pred)):\n",
    "            spamwriter.writerow([ids[i], y_pred[i]])"
   ]
  },
  {
   "cell_type": "code",
   "execution_count": 6,
   "metadata": {
    "collapsed": true
   },
   "outputs": [],
   "source": [
    "submission = (results[0] + results[1] + results[2] + results[3] + results[4]) / 5\n",
    "idx = dataset_test.iloc[:, 0].values\n",
    "to_csv(submission,idx)"
   ]
  },
  {
   "cell_type": "markdown",
   "metadata": {},
   "source": [
    "gini score for this submission : 0.04576"
   ]
  },
  {
   "cell_type": "code",
   "execution_count": null,
   "metadata": {
    "collapsed": true
   },
   "outputs": [],
   "source": []
  }
 ],
 "metadata": {
  "kernelspec": {
   "display_name": "Python 3",
   "language": "python",
   "name": "python3"
  },
  "language_info": {
   "codemirror_mode": {
    "name": "ipython",
    "version": 3
   },
   "file_extension": ".py",
   "mimetype": "text/x-python",
   "name": "python",
   "nbconvert_exporter": "python",
   "pygments_lexer": "ipython3",
   "version": "3.6.1"
  }
 },
 "nbformat": 4,
 "nbformat_minor": 2
}
