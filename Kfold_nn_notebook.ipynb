{
 "cells": [
  {
   "cell_type": "code",
   "execution_count": 31,
   "metadata": {
    "collapsed": true
   },
   "outputs": [],
   "source": [
    "import json\n",
    "\n",
    "#import numpy as np\n",
    "import pandas as pd\n",
    "from keras.models import Sequential\n",
    "from keras.layers import Dense\n",
    "from sklearn.metrics import confusion_matrix\n",
    "from sklearn.model_selection import KFold\n",
    "\n",
    "from util import cross_entropy, gini_normalized\n",
    "from parameters import parameters, batch_size, epochs, layers, activation_functions, loss, alpha\n",
    "from preprocessing import preproc"
   ]
  },
  {
   "cell_type": "code",
   "execution_count": 35,
   "metadata": {
    "collapsed": true
   },
   "outputs": [],
   "source": [
    "def to_csv(y_pred, ids):\n",
    "    import csv\n",
    "    with open('sumbission_5Kfold_nn.csv', 'w') as csvfile:\n",
    "        spamwriter = csv.writer(csvfile, delimiter=',')\n",
    "        spamwriter.writerow(['id', 'target'])\n",
    "        for i in range(len(y_pred)):\n",
    "            spamwriter.writerow([ids[i], y_pred[i]])"
   ]
  },
  {
   "cell_type": "markdown",
   "metadata": {},
   "source": [
    "Import dataset"
   ]
  },
  {
   "cell_type": "code",
   "execution_count": 3,
   "metadata": {},
   "outputs": [
    {
     "name": "stdout",
     "output_type": "stream",
     "text": [
      "replacing missing values\n",
      "number of examples: 595212\n",
      "One hot encoding\n",
      "replacing missing values\n",
      "number of examples: 892816\n",
      "One hot encoding\n"
     ]
    }
   ],
   "source": [
    "# Importing the train dataset\n",
    "dataset_train = pd.read_csv('train.csv')\n",
    "\n",
    "# Importing the test dataset\n",
    "dataset_test = pd.read_csv('test.csv')\n",
    "\n",
    "# preprocessing train dataset\n",
    "X_train, y_train, scaler = preproc(dataset_train, 'train', oneHot=True, scale=True)\n",
    "\n",
    "# preprocessing test dataset\n",
    "X_test, y_test = preproc(dataset_test, 'test', oneHot=True, scale=True, scaler=scaler)"
   ]
  },
  {
   "cell_type": "markdown",
   "metadata": {},
   "source": [
    "Initialize cross validation and weight the data"
   ]
  },
  {
   "cell_type": "code",
   "execution_count": 5,
   "metadata": {
    "collapsed": true
   },
   "outputs": [],
   "source": [
    "class_weight = {0: 1., 1: alpha}\n",
    "K = 5\n",
    "kf = KFold(n_splits=K, random_state=42, shuffle=True)\n",
    "#training with KFold Cross Validation"
   ]
  },
  {
   "cell_type": "markdown",
   "metadata": {},
   "source": [
    "Training and cross validation"
   ]
  },
  {
   "cell_type": "code",
   "execution_count": 8,
   "metadata": {},
   "outputs": [
    {
     "name": "stdout",
     "output_type": "stream",
     "text": [
      "Epoch 1/10\n",
      "476169/476169 [==============================] - 5s 11us/step - loss: 1.4212\n",
      "Epoch 2/10\n",
      "476169/476169 [==============================] - 2s 4us/step - loss: 1.3946\n",
      "Epoch 3/10\n",
      "476169/476169 [==============================] - 2s 4us/step - loss: 1.3739\n",
      "Epoch 4/10\n",
      "476169/476169 [==============================] - 2s 4us/step - loss: 1.3676\n",
      "Epoch 5/10\n",
      "476169/476169 [==============================] - 2s 4us/step - loss: 1.3651\n",
      "Epoch 6/10\n",
      "476169/476169 [==============================] - 2s 4us/step - loss: 1.3632\n",
      "Epoch 7/10\n",
      "476169/476169 [==============================] - 2s 4us/step - loss: 1.3616\n",
      "Epoch 8/10\n",
      "476169/476169 [==============================] - 2s 4us/step - loss: 1.3602\n",
      "Epoch 9/10\n",
      "476169/476169 [==============================] - 2s 4us/step - loss: 1.3585\n",
      "Epoch 10/10\n",
      "476169/476169 [==============================] - 2s 4us/step - loss: 1.3571\n",
      "gini_eval 1\n",
      "0.255916140515\n",
      "Epoch 1/10\n",
      "476169/476169 [==============================] - 2s 4us/step - loss: 1.4224\n",
      "Epoch 2/10\n",
      "476169/476169 [==============================] - 2s 4us/step - loss: 1.3960\n",
      "Epoch 3/10\n",
      "476169/476169 [==============================] - 2s 4us/step - loss: 1.3864\n",
      "Epoch 4/10\n",
      "476169/476169 [==============================] - 2s 4us/step - loss: 1.3818\n",
      "Epoch 5/10\n",
      "476169/476169 [==============================] - 2s 4us/step - loss: 1.3783\n",
      "Epoch 6/10\n",
      "476169/476169 [==============================] - 2s 4us/step - loss: 1.3752\n",
      "Epoch 7/10\n",
      "476169/476169 [==============================] - 2s 4us/step - loss: 1.3722\n",
      "Epoch 8/10\n",
      "476169/476169 [==============================] - 2s 4us/step - loss: 1.3692\n",
      "Epoch 9/10\n",
      "476169/476169 [==============================] - 2s 4us/step - loss: 1.3660\n",
      "Epoch 10/10\n",
      "476169/476169 [==============================] - 2s 4us/step - loss: 1.3631\n",
      "gini_eval 1\n",
      "0.225015844832\n",
      "Epoch 1/10\n",
      "476170/476170 [==============================] - 2s 4us/step - loss: 1.4170\n",
      "Epoch 2/10\n",
      "476170/476170 [==============================] - 2s 3us/step - loss: 1.3915\n",
      "Epoch 3/10\n",
      "476170/476170 [==============================] - 2s 3us/step - loss: 1.3830\n",
      "Epoch 4/10\n",
      "476170/476170 [==============================] - 2s 4us/step - loss: 1.3788\n",
      "Epoch 5/10\n",
      "476170/476170 [==============================] - 2s 4us/step - loss: 1.3752\n",
      "Epoch 6/10\n",
      "476170/476170 [==============================] - 2s 4us/step - loss: 1.3722\n",
      "Epoch 7/10\n",
      "476170/476170 [==============================] - 2s 4us/step - loss: 1.3689\n",
      "Epoch 8/10\n",
      "476170/476170 [==============================] - 2s 3us/step - loss: 1.3659\n",
      "Epoch 9/10\n",
      "476170/476170 [==============================] - 2s 3us/step - loss: 1.3624\n",
      "Epoch 10/10\n",
      "476170/476170 [==============================] - 2s 4us/step - loss: 1.3594\n",
      "gini_eval 1\n",
      "0.249476093534\n",
      "Epoch 1/10\n",
      "476170/476170 [==============================] - 2s 4us/step - loss: 1.4240\n",
      "Epoch 2/10\n",
      "476170/476170 [==============================] - 2s 4us/step - loss: 1.3955\n",
      "Epoch 3/10\n",
      "476170/476170 [==============================] - 2s 4us/step - loss: 1.3881\n",
      "Epoch 4/10\n",
      "476170/476170 [==============================] - 2s 4us/step - loss: 1.3835\n",
      "Epoch 5/10\n",
      "476170/476170 [==============================] - 2s 4us/step - loss: 1.3798\n",
      "Epoch 6/10\n",
      "476170/476170 [==============================] - 2s 4us/step - loss: 1.3763\n",
      "Epoch 7/10\n",
      "476170/476170 [==============================] - 2s 4us/step - loss: 1.3729\n",
      "Epoch 8/10\n",
      "476170/476170 [==============================] - 2s 4us/step - loss: 1.3689\n",
      "Epoch 9/10\n",
      "476170/476170 [==============================] - 2s 4us/step - loss: 1.3656\n",
      "Epoch 10/10\n",
      "476170/476170 [==============================] - 2s 4us/step - loss: 1.3618\n",
      "gini_eval 1\n",
      "0.232088490271\n",
      "Epoch 1/10\n",
      "476170/476170 [==============================] - 2s 4us/step - loss: 1.4235\n",
      "Epoch 2/10\n",
      "476170/476170 [==============================] - 2s 4us/step - loss: 1.3953\n",
      "Epoch 3/10\n",
      "476170/476170 [==============================] - 2s 4us/step - loss: 1.3744\n",
      "Epoch 4/10\n",
      "476170/476170 [==============================] - 2s 4us/step - loss: 1.3687\n",
      "Epoch 5/10\n",
      "476170/476170 [==============================] - 2s 4us/step - loss: 1.3662\n",
      "Epoch 6/10\n",
      "476170/476170 [==============================] - 2s 4us/step - loss: 1.3644\n",
      "Epoch 7/10\n",
      "476170/476170 [==============================] - 2s 4us/step - loss: 1.3628\n",
      "Epoch 8/10\n",
      "476170/476170 [==============================] - 2s 4us/step - loss: 1.3614\n",
      "Epoch 9/10\n",
      "476170/476170 [==============================] - 2s 4us/step - loss: 1.3598\n",
      "Epoch 10/10\n",
      "476170/476170 [==============================] - 2s 4us/step - loss: 1.3583\n",
      "gini_eval 1\n",
      "0.242264799246\n"
     ]
    }
   ],
   "source": [
    "i=0\n",
    "results = []\n",
    "for train_index, test_index in kf.split(X_train):\n",
    "    # Initialising the ANN\n",
    "    classifier = Sequential()\n",
    "\n",
    "    # Adding the input layer and the first hidden layer\n",
    "    classifier.add(Dense(units = layers[1], kernel_initializer = 'uniform', activation = activation_functions[0], input_dim =layers[0]))  # input dim =204 normalement\n",
    "\n",
    "    # Adding the second hidden layer\n",
    "    # no need to specify input-size since it is the output size of the previous layer\n",
    "    for i in range(len(layers)-3):\n",
    "        classifier.add(Dense(units=layers[i+2], kernel_initializer = 'uniform', activation = activation_functions[i+1]))\n",
    "\n",
    "    # Adding the output layer\n",
    "    classifier.add(Dense(units = 1, kernel_initializer = 'uniform', activation = 'sigmoid'))\n",
    "\n",
    "    # Compiling the ANN\n",
    "    classifier.compile(optimizer = 'adam', loss = loss, metrics = [])\n",
    "    train_x, train_y = X_train[train_index], y_train[train_index]\n",
    "    eval_x, eval_y = X_train[test_index], y_train[test_index]\n",
    "    classifier.fit(train_x, train_y, batch_size = batch_size, epochs = epochs, class_weight=class_weight)\n",
    "    res_eval = classifier.predict(eval_x)\n",
    "    res = classifier.predict(X_test)\n",
    "    results.append(res)\n",
    "    print('gini_eval', i)\n",
    "    gini_score = gini_normalized(eval_y, res_eval)\n",
    "    print(gini_score)\n",
    "    i+=1"
   ]
  },
  {
   "cell_type": "code",
   "execution_count": 38,
   "metadata": {
    "collapsed": true
   },
   "outputs": [],
   "source": [
    "submission = (results[0] + results[1] + results[2] + results[3] + results[4]) / 5\n",
    "idx = dataset_test.iloc[:, 0].values\n",
    "to_csv(submission[:,0],idx)"
   ]
  },
  {
   "cell_type": "code",
   "execution_count": null,
   "metadata": {
    "collapsed": true
   },
   "outputs": [],
   "source": []
  },
  {
   "cell_type": "code",
   "execution_count": null,
   "metadata": {
    "collapsed": true
   },
   "outputs": [],
   "source": []
  }
 ],
 "metadata": {
  "kernelspec": {
   "display_name": "Python 3",
   "language": "python",
   "name": "python3"
  },
  "language_info": {
   "codemirror_mode": {
    "name": "ipython",
    "version": 3
   },
   "file_extension": ".py",
   "mimetype": "text/x-python",
   "name": "python",
   "nbconvert_exporter": "python",
   "pygments_lexer": "ipython3",
   "version": "3.6.1"
  }
 },
 "nbformat": 4,
 "nbformat_minor": 1
}
